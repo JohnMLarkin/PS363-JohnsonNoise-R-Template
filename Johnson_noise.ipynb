{
  "nbformat": 4,
  "nbformat_minor": 0,
  "metadata": {
    "colab": {
      "name": "Johnson noise.ipynb",
      "provenance": [],
      "authorship_tag": "ABX9TyO9KJviPhQ7Ko85vqx0A5PZ"
    },
    "kernelspec": {
      "name": "python3",
      "display_name": "Python 3"
    }
  },
  "cells": [
    {
      "cell_type": "markdown",
      "metadata": {
        "id": "hXXgYfJ4A_KB"
      },
      "source": [
        "# Install and import libraries"
      ]
    },
    {
      "cell_type": "code",
      "metadata": {
        "id": "JhOi40FxA63p"
      },
      "source": [
        "!pip install whit-phys-util"
      ],
      "execution_count": null,
      "outputs": []
    },
    {
      "cell_type": "code",
      "metadata": {
        "id": "gu4pXIWjBFv4"
      },
      "source": [
        "import numpy as np\r\n",
        "import pandas as pd\r\n",
        "import matplotlib.pyplot as plt\r\n",
        "import whit_phys_util as buc\r\n",
        "import scipy.constants as const"
      ],
      "execution_count": null,
      "outputs": []
    },
    {
      "cell_type": "markdown",
      "metadata": {
        "id": "6TqO6bciBLRU"
      },
      "source": [
        "# Connect to GitHub"
      ]
    },
    {
      "cell_type": "code",
      "metadata": {
        "id": "rtteQW6PBNxP"
      },
      "source": [
        "repo = buc.local_repository(\"replace me\")"
      ],
      "execution_count": null,
      "outputs": []
    },
    {
      "cell_type": "markdown",
      "metadata": {
        "id": "3dFJfQHCBRPx"
      },
      "source": [
        "# Observing Johnson noise"
      ]
    },
    {
      "cell_type": "code",
      "metadata": {
        "id": "Bq9Mlef2BbaG"
      },
      "source": [
        ""
      ],
      "execution_count": null,
      "outputs": []
    },
    {
      "cell_type": "markdown",
      "metadata": {
        "id": "usuencmNBcB2"
      },
      "source": [
        "# Quasi-autocorrelation function"
      ]
    },
    {
      "cell_type": "code",
      "metadata": {
        "id": "78xAOAPnBioI"
      },
      "source": [
        ""
      ],
      "execution_count": null,
      "outputs": []
    },
    {
      "cell_type": "markdown",
      "metadata": {
        "id": "2JDKakX8BjLw"
      },
      "source": [
        "# Square and average"
      ]
    },
    {
      "cell_type": "code",
      "metadata": {
        "id": "UriHh5niBsVJ"
      },
      "source": [
        ""
      ],
      "execution_count": null,
      "outputs": []
    },
    {
      "cell_type": "markdown",
      "metadata": {
        "id": "BSTZrW-IBtDY"
      },
      "source": [
        "# Measuring Johnson noise"
      ]
    },
    {
      "cell_type": "code",
      "metadata": {
        "id": "sBrQQQs2Bv4x"
      },
      "source": [
        ""
      ],
      "execution_count": null,
      "outputs": []
    }
  ]
}